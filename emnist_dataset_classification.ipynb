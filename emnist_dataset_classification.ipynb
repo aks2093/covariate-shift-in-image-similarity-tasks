{
  "nbformat": 4,
  "nbformat_minor": 0,
  "metadata": {
    "colab": {
      "name": "emnist_dataset_classification.ipynb",
      "provenance": [],
      "authorship_tag": "ABX9TyMRJWuFQrgoqTxKeGvgQWY7",
      "include_colab_link": true
    },
    "kernelspec": {
      "name": "python3",
      "display_name": "Python 3"
    },
    "accelerator": "GPU"
  },
  "cells": [
    {
      "cell_type": "markdown",
      "metadata": {
        "id": "view-in-github",
        "colab_type": "text"
      },
      "source": [
        "<a href=\"https://colab.research.google.com/github/aks2093/covariate-shift-in-image-similarity-tasks/blob/main/emnist_dataset_classification.ipynb\" target=\"_parent\"><img src=\"https://colab.research.google.com/assets/colab-badge.svg\" alt=\"Open In Colab\"/></a>"
      ]
    },
    {
      "cell_type": "code",
      "metadata": {
        "id": "b-3XJu_UGFFG",
        "outputId": "24e3ca55-0558-4649-9aa3-7e58ddf0d19f",
        "colab": {
          "base_uri": "https://localhost:8080/",
          "height": 34
        }
      },
      "source": [
        "from google.colab import drive\n",
        "drive.mount('/content/drive')"
      ],
      "execution_count": 1,
      "outputs": [
        {
          "output_type": "stream",
          "text": [
            "Mounted at /content/drive\n"
          ],
          "name": "stdout"
        }
      ]
    },
    {
      "cell_type": "code",
      "metadata": {
        "id": "lpiTgj1-7YIr"
      },
      "source": [
        "import os\n",
        "import pandas as pd\n",
        "import numpy as np\n",
        "\n",
        "data_path = \"/content/drive/My Drive/emnist\""
      ],
      "execution_count": 2,
      "outputs": []
    },
    {
      "cell_type": "markdown",
      "metadata": {
        "id": "aZ_ZJhCkjkYx"
      },
      "source": [
        "**Read Data**"
      ]
    },
    {
      "cell_type": "code",
      "metadata": {
        "id": "S8HOYhY1UR-U",
        "outputId": "dd86bdd6-5115-42fe-9c85-c998fa79d685",
        "colab": {
          "base_uri": "https://localhost:8080/",
          "height": 51
        }
      },
      "source": [
        "train_data_path = os.path.join(data_path, \"emnist-letters-train.csv\")\n",
        "test_data_path = os.path.join(data_path, \"emnist-letters-test.csv\")\n",
        "\n",
        "train_data = pd.read_csv(train_data_path)\n",
        "test_data = pd.read_csv(test_data_path)\n",
        "print(\"train_data shape: {}\".format(train_data.shape))\n",
        "print(\"test_data shape: {}\".format(test_data.shape))"
      ],
      "execution_count": 2,
      "outputs": [
        {
          "output_type": "stream",
          "text": [
            "train_data shape: (88799, 785)\n",
            "test_data shape: (14799, 785)\n"
          ],
          "name": "stdout"
        }
      ]
    },
    {
      "cell_type": "markdown",
      "metadata": {
        "id": "0buijXJCjh3f"
      },
      "source": [
        "**Visualize few rows of train data**"
      ]
    },
    {
      "cell_type": "code",
      "metadata": {
        "id": "1oprhV5kU79A",
        "outputId": "3773dd81-afdd-4f02-f518-7251393f6275",
        "colab": {
          "base_uri": "https://localhost:8080/",
          "height": 253
        }
      },
      "source": [
        "train_data.head(5)"
      ],
      "execution_count": 3,
      "outputs": [
        {
          "output_type": "execute_result",
          "data": {
            "text/html": [
              "<div>\n",
              "<style scoped>\n",
              "    .dataframe tbody tr th:only-of-type {\n",
              "        vertical-align: middle;\n",
              "    }\n",
              "\n",
              "    .dataframe tbody tr th {\n",
              "        vertical-align: top;\n",
              "    }\n",
              "\n",
              "    .dataframe thead th {\n",
              "        text-align: right;\n",
              "    }\n",
              "</style>\n",
              "<table border=\"1\" class=\"dataframe\">\n",
              "  <thead>\n",
              "    <tr style=\"text-align: right;\">\n",
              "      <th></th>\n",
              "      <th>23</th>\n",
              "      <th>0</th>\n",
              "      <th>0.1</th>\n",
              "      <th>0.2</th>\n",
              "      <th>0.3</th>\n",
              "      <th>0.4</th>\n",
              "      <th>0.5</th>\n",
              "      <th>0.6</th>\n",
              "      <th>0.7</th>\n",
              "      <th>0.8</th>\n",
              "      <th>0.9</th>\n",
              "      <th>0.10</th>\n",
              "      <th>0.11</th>\n",
              "      <th>0.12</th>\n",
              "      <th>0.13</th>\n",
              "      <th>0.14</th>\n",
              "      <th>0.15</th>\n",
              "      <th>0.16</th>\n",
              "      <th>0.17</th>\n",
              "      <th>0.18</th>\n",
              "      <th>0.19</th>\n",
              "      <th>0.20</th>\n",
              "      <th>0.21</th>\n",
              "      <th>0.22</th>\n",
              "      <th>0.23</th>\n",
              "      <th>0.24</th>\n",
              "      <th>0.25</th>\n",
              "      <th>0.26</th>\n",
              "      <th>0.27</th>\n",
              "      <th>0.28</th>\n",
              "      <th>0.29</th>\n",
              "      <th>0.30</th>\n",
              "      <th>0.31</th>\n",
              "      <th>0.32</th>\n",
              "      <th>0.33</th>\n",
              "      <th>0.34</th>\n",
              "      <th>0.35</th>\n",
              "      <th>0.36</th>\n",
              "      <th>0.37</th>\n",
              "      <th>0.38</th>\n",
              "      <th>...</th>\n",
              "      <th>0.376</th>\n",
              "      <th>0.377</th>\n",
              "      <th>0.378</th>\n",
              "      <th>0.379</th>\n",
              "      <th>0.380</th>\n",
              "      <th>0.381</th>\n",
              "      <th>0.382</th>\n",
              "      <th>0.383</th>\n",
              "      <th>0.384</th>\n",
              "      <th>0.385</th>\n",
              "      <th>0.386</th>\n",
              "      <th>0.387</th>\n",
              "      <th>0.388</th>\n",
              "      <th>0.389</th>\n",
              "      <th>0.390</th>\n",
              "      <th>0.391</th>\n",
              "      <th>0.392</th>\n",
              "      <th>0.393</th>\n",
              "      <th>0.394</th>\n",
              "      <th>0.395</th>\n",
              "      <th>0.396</th>\n",
              "      <th>0.397</th>\n",
              "      <th>0.398</th>\n",
              "      <th>0.399</th>\n",
              "      <th>0.400</th>\n",
              "      <th>0.401</th>\n",
              "      <th>0.402</th>\n",
              "      <th>0.403</th>\n",
              "      <th>0.404</th>\n",
              "      <th>0.405</th>\n",
              "      <th>0.406</th>\n",
              "      <th>0.407</th>\n",
              "      <th>0.408</th>\n",
              "      <th>0.409</th>\n",
              "      <th>0.410</th>\n",
              "      <th>0.411</th>\n",
              "      <th>0.412</th>\n",
              "      <th>0.413</th>\n",
              "      <th>0.414</th>\n",
              "      <th>0.415</th>\n",
              "    </tr>\n",
              "  </thead>\n",
              "  <tbody>\n",
              "    <tr>\n",
              "      <th>0</th>\n",
              "      <td>7</td>\n",
              "      <td>0</td>\n",
              "      <td>0</td>\n",
              "      <td>0</td>\n",
              "      <td>0</td>\n",
              "      <td>0</td>\n",
              "      <td>0</td>\n",
              "      <td>0</td>\n",
              "      <td>0</td>\n",
              "      <td>0</td>\n",
              "      <td>0</td>\n",
              "      <td>0</td>\n",
              "      <td>0</td>\n",
              "      <td>0</td>\n",
              "      <td>0</td>\n",
              "      <td>0</td>\n",
              "      <td>0</td>\n",
              "      <td>0</td>\n",
              "      <td>0</td>\n",
              "      <td>0</td>\n",
              "      <td>0</td>\n",
              "      <td>0</td>\n",
              "      <td>0</td>\n",
              "      <td>0</td>\n",
              "      <td>0</td>\n",
              "      <td>0</td>\n",
              "      <td>0</td>\n",
              "      <td>0</td>\n",
              "      <td>0</td>\n",
              "      <td>0</td>\n",
              "      <td>0</td>\n",
              "      <td>0</td>\n",
              "      <td>0</td>\n",
              "      <td>0</td>\n",
              "      <td>0</td>\n",
              "      <td>0</td>\n",
              "      <td>0</td>\n",
              "      <td>0</td>\n",
              "      <td>0</td>\n",
              "      <td>0</td>\n",
              "      <td>...</td>\n",
              "      <td>0</td>\n",
              "      <td>0</td>\n",
              "      <td>0</td>\n",
              "      <td>0</td>\n",
              "      <td>0</td>\n",
              "      <td>0</td>\n",
              "      <td>0</td>\n",
              "      <td>0</td>\n",
              "      <td>0</td>\n",
              "      <td>0</td>\n",
              "      <td>0</td>\n",
              "      <td>0</td>\n",
              "      <td>0</td>\n",
              "      <td>0</td>\n",
              "      <td>0</td>\n",
              "      <td>0</td>\n",
              "      <td>0</td>\n",
              "      <td>0</td>\n",
              "      <td>0</td>\n",
              "      <td>0</td>\n",
              "      <td>0</td>\n",
              "      <td>0</td>\n",
              "      <td>0</td>\n",
              "      <td>0</td>\n",
              "      <td>0</td>\n",
              "      <td>0</td>\n",
              "      <td>0</td>\n",
              "      <td>0</td>\n",
              "      <td>0</td>\n",
              "      <td>0</td>\n",
              "      <td>0</td>\n",
              "      <td>0</td>\n",
              "      <td>0</td>\n",
              "      <td>0</td>\n",
              "      <td>0</td>\n",
              "      <td>0</td>\n",
              "      <td>0</td>\n",
              "      <td>0</td>\n",
              "      <td>0</td>\n",
              "      <td>0</td>\n",
              "    </tr>\n",
              "    <tr>\n",
              "      <th>1</th>\n",
              "      <td>16</td>\n",
              "      <td>0</td>\n",
              "      <td>0</td>\n",
              "      <td>0</td>\n",
              "      <td>0</td>\n",
              "      <td>0</td>\n",
              "      <td>0</td>\n",
              "      <td>0</td>\n",
              "      <td>0</td>\n",
              "      <td>0</td>\n",
              "      <td>0</td>\n",
              "      <td>0</td>\n",
              "      <td>0</td>\n",
              "      <td>0</td>\n",
              "      <td>0</td>\n",
              "      <td>0</td>\n",
              "      <td>0</td>\n",
              "      <td>0</td>\n",
              "      <td>0</td>\n",
              "      <td>0</td>\n",
              "      <td>0</td>\n",
              "      <td>0</td>\n",
              "      <td>0</td>\n",
              "      <td>0</td>\n",
              "      <td>0</td>\n",
              "      <td>0</td>\n",
              "      <td>0</td>\n",
              "      <td>0</td>\n",
              "      <td>0</td>\n",
              "      <td>0</td>\n",
              "      <td>0</td>\n",
              "      <td>0</td>\n",
              "      <td>0</td>\n",
              "      <td>0</td>\n",
              "      <td>0</td>\n",
              "      <td>0</td>\n",
              "      <td>0</td>\n",
              "      <td>0</td>\n",
              "      <td>0</td>\n",
              "      <td>0</td>\n",
              "      <td>...</td>\n",
              "      <td>0</td>\n",
              "      <td>0</td>\n",
              "      <td>0</td>\n",
              "      <td>0</td>\n",
              "      <td>0</td>\n",
              "      <td>0</td>\n",
              "      <td>0</td>\n",
              "      <td>0</td>\n",
              "      <td>0</td>\n",
              "      <td>0</td>\n",
              "      <td>0</td>\n",
              "      <td>0</td>\n",
              "      <td>0</td>\n",
              "      <td>0</td>\n",
              "      <td>0</td>\n",
              "      <td>0</td>\n",
              "      <td>0</td>\n",
              "      <td>0</td>\n",
              "      <td>0</td>\n",
              "      <td>0</td>\n",
              "      <td>0</td>\n",
              "      <td>0</td>\n",
              "      <td>0</td>\n",
              "      <td>0</td>\n",
              "      <td>0</td>\n",
              "      <td>0</td>\n",
              "      <td>0</td>\n",
              "      <td>0</td>\n",
              "      <td>0</td>\n",
              "      <td>0</td>\n",
              "      <td>0</td>\n",
              "      <td>0</td>\n",
              "      <td>0</td>\n",
              "      <td>0</td>\n",
              "      <td>0</td>\n",
              "      <td>0</td>\n",
              "      <td>0</td>\n",
              "      <td>0</td>\n",
              "      <td>0</td>\n",
              "      <td>0</td>\n",
              "    </tr>\n",
              "    <tr>\n",
              "      <th>2</th>\n",
              "      <td>15</td>\n",
              "      <td>0</td>\n",
              "      <td>0</td>\n",
              "      <td>0</td>\n",
              "      <td>0</td>\n",
              "      <td>0</td>\n",
              "      <td>0</td>\n",
              "      <td>0</td>\n",
              "      <td>0</td>\n",
              "      <td>0</td>\n",
              "      <td>0</td>\n",
              "      <td>0</td>\n",
              "      <td>0</td>\n",
              "      <td>0</td>\n",
              "      <td>0</td>\n",
              "      <td>0</td>\n",
              "      <td>0</td>\n",
              "      <td>0</td>\n",
              "      <td>0</td>\n",
              "      <td>0</td>\n",
              "      <td>0</td>\n",
              "      <td>0</td>\n",
              "      <td>0</td>\n",
              "      <td>0</td>\n",
              "      <td>0</td>\n",
              "      <td>0</td>\n",
              "      <td>0</td>\n",
              "      <td>0</td>\n",
              "      <td>0</td>\n",
              "      <td>0</td>\n",
              "      <td>0</td>\n",
              "      <td>0</td>\n",
              "      <td>0</td>\n",
              "      <td>0</td>\n",
              "      <td>0</td>\n",
              "      <td>0</td>\n",
              "      <td>0</td>\n",
              "      <td>0</td>\n",
              "      <td>0</td>\n",
              "      <td>0</td>\n",
              "      <td>...</td>\n",
              "      <td>0</td>\n",
              "      <td>0</td>\n",
              "      <td>0</td>\n",
              "      <td>0</td>\n",
              "      <td>0</td>\n",
              "      <td>0</td>\n",
              "      <td>0</td>\n",
              "      <td>0</td>\n",
              "      <td>0</td>\n",
              "      <td>0</td>\n",
              "      <td>0</td>\n",
              "      <td>0</td>\n",
              "      <td>0</td>\n",
              "      <td>0</td>\n",
              "      <td>0</td>\n",
              "      <td>0</td>\n",
              "      <td>0</td>\n",
              "      <td>0</td>\n",
              "      <td>0</td>\n",
              "      <td>0</td>\n",
              "      <td>0</td>\n",
              "      <td>0</td>\n",
              "      <td>0</td>\n",
              "      <td>0</td>\n",
              "      <td>0</td>\n",
              "      <td>0</td>\n",
              "      <td>0</td>\n",
              "      <td>0</td>\n",
              "      <td>0</td>\n",
              "      <td>0</td>\n",
              "      <td>0</td>\n",
              "      <td>0</td>\n",
              "      <td>0</td>\n",
              "      <td>0</td>\n",
              "      <td>0</td>\n",
              "      <td>0</td>\n",
              "      <td>0</td>\n",
              "      <td>0</td>\n",
              "      <td>0</td>\n",
              "      <td>0</td>\n",
              "    </tr>\n",
              "    <tr>\n",
              "      <th>3</th>\n",
              "      <td>23</td>\n",
              "      <td>0</td>\n",
              "      <td>0</td>\n",
              "      <td>0</td>\n",
              "      <td>0</td>\n",
              "      <td>0</td>\n",
              "      <td>0</td>\n",
              "      <td>0</td>\n",
              "      <td>0</td>\n",
              "      <td>0</td>\n",
              "      <td>0</td>\n",
              "      <td>0</td>\n",
              "      <td>0</td>\n",
              "      <td>0</td>\n",
              "      <td>0</td>\n",
              "      <td>0</td>\n",
              "      <td>0</td>\n",
              "      <td>0</td>\n",
              "      <td>0</td>\n",
              "      <td>0</td>\n",
              "      <td>0</td>\n",
              "      <td>0</td>\n",
              "      <td>0</td>\n",
              "      <td>0</td>\n",
              "      <td>0</td>\n",
              "      <td>0</td>\n",
              "      <td>0</td>\n",
              "      <td>0</td>\n",
              "      <td>0</td>\n",
              "      <td>0</td>\n",
              "      <td>0</td>\n",
              "      <td>0</td>\n",
              "      <td>0</td>\n",
              "      <td>0</td>\n",
              "      <td>0</td>\n",
              "      <td>0</td>\n",
              "      <td>0</td>\n",
              "      <td>0</td>\n",
              "      <td>0</td>\n",
              "      <td>0</td>\n",
              "      <td>...</td>\n",
              "      <td>0</td>\n",
              "      <td>0</td>\n",
              "      <td>0</td>\n",
              "      <td>0</td>\n",
              "      <td>0</td>\n",
              "      <td>0</td>\n",
              "      <td>0</td>\n",
              "      <td>0</td>\n",
              "      <td>0</td>\n",
              "      <td>0</td>\n",
              "      <td>0</td>\n",
              "      <td>0</td>\n",
              "      <td>0</td>\n",
              "      <td>0</td>\n",
              "      <td>0</td>\n",
              "      <td>0</td>\n",
              "      <td>0</td>\n",
              "      <td>0</td>\n",
              "      <td>0</td>\n",
              "      <td>0</td>\n",
              "      <td>0</td>\n",
              "      <td>0</td>\n",
              "      <td>0</td>\n",
              "      <td>0</td>\n",
              "      <td>0</td>\n",
              "      <td>0</td>\n",
              "      <td>0</td>\n",
              "      <td>0</td>\n",
              "      <td>0</td>\n",
              "      <td>0</td>\n",
              "      <td>0</td>\n",
              "      <td>0</td>\n",
              "      <td>0</td>\n",
              "      <td>0</td>\n",
              "      <td>0</td>\n",
              "      <td>0</td>\n",
              "      <td>0</td>\n",
              "      <td>0</td>\n",
              "      <td>0</td>\n",
              "      <td>0</td>\n",
              "    </tr>\n",
              "    <tr>\n",
              "      <th>4</th>\n",
              "      <td>17</td>\n",
              "      <td>0</td>\n",
              "      <td>0</td>\n",
              "      <td>0</td>\n",
              "      <td>0</td>\n",
              "      <td>0</td>\n",
              "      <td>0</td>\n",
              "      <td>0</td>\n",
              "      <td>0</td>\n",
              "      <td>0</td>\n",
              "      <td>0</td>\n",
              "      <td>0</td>\n",
              "      <td>0</td>\n",
              "      <td>0</td>\n",
              "      <td>0</td>\n",
              "      <td>0</td>\n",
              "      <td>0</td>\n",
              "      <td>0</td>\n",
              "      <td>0</td>\n",
              "      <td>0</td>\n",
              "      <td>0</td>\n",
              "      <td>0</td>\n",
              "      <td>0</td>\n",
              "      <td>0</td>\n",
              "      <td>0</td>\n",
              "      <td>0</td>\n",
              "      <td>0</td>\n",
              "      <td>0</td>\n",
              "      <td>0</td>\n",
              "      <td>0</td>\n",
              "      <td>0</td>\n",
              "      <td>0</td>\n",
              "      <td>0</td>\n",
              "      <td>0</td>\n",
              "      <td>0</td>\n",
              "      <td>0</td>\n",
              "      <td>0</td>\n",
              "      <td>0</td>\n",
              "      <td>0</td>\n",
              "      <td>0</td>\n",
              "      <td>...</td>\n",
              "      <td>0</td>\n",
              "      <td>0</td>\n",
              "      <td>0</td>\n",
              "      <td>0</td>\n",
              "      <td>0</td>\n",
              "      <td>0</td>\n",
              "      <td>0</td>\n",
              "      <td>0</td>\n",
              "      <td>0</td>\n",
              "      <td>0</td>\n",
              "      <td>0</td>\n",
              "      <td>0</td>\n",
              "      <td>0</td>\n",
              "      <td>0</td>\n",
              "      <td>0</td>\n",
              "      <td>0</td>\n",
              "      <td>0</td>\n",
              "      <td>0</td>\n",
              "      <td>0</td>\n",
              "      <td>0</td>\n",
              "      <td>0</td>\n",
              "      <td>0</td>\n",
              "      <td>0</td>\n",
              "      <td>0</td>\n",
              "      <td>0</td>\n",
              "      <td>0</td>\n",
              "      <td>0</td>\n",
              "      <td>0</td>\n",
              "      <td>0</td>\n",
              "      <td>0</td>\n",
              "      <td>0</td>\n",
              "      <td>0</td>\n",
              "      <td>0</td>\n",
              "      <td>0</td>\n",
              "      <td>0</td>\n",
              "      <td>0</td>\n",
              "      <td>0</td>\n",
              "      <td>0</td>\n",
              "      <td>0</td>\n",
              "      <td>0</td>\n",
              "    </tr>\n",
              "  </tbody>\n",
              "</table>\n",
              "<p>5 rows × 785 columns</p>\n",
              "</div>"
            ],
            "text/plain": [
              "   23  0  0.1  0.2  0.3  0.4  ...  0.410  0.411  0.412  0.413  0.414  0.415\n",
              "0   7  0    0    0    0    0  ...      0      0      0      0      0      0\n",
              "1  16  0    0    0    0    0  ...      0      0      0      0      0      0\n",
              "2  15  0    0    0    0    0  ...      0      0      0      0      0      0\n",
              "3  23  0    0    0    0    0  ...      0      0      0      0      0      0\n",
              "4  17  0    0    0    0    0  ...      0      0      0      0      0      0\n",
              "\n",
              "[5 rows x 785 columns]"
            ]
          },
          "metadata": {
            "tags": []
          },
          "execution_count": 3
        }
      ]
    },
    {
      "cell_type": "markdown",
      "metadata": {
        "id": "WLXMjOMIj3VR"
      },
      "source": [
        "**Defining Required x_columns and rotate function to visualize the images**"
      ]
    },
    {
      "cell_type": "code",
      "metadata": {
        "id": "9ZvFYQ68VC4e"
      },
      "source": [
        "x_columns = train_data.columns.to_list()\n",
        "x_columns.remove(\"23\")\n",
        "y_column = [\"23\"]\n",
        "\n",
        "def rotate(image):\n",
        "    image = np.fliplr(image)\n",
        "    image = np.rot90(image)\n",
        "    return image"
      ],
      "execution_count": 4,
      "outputs": []
    },
    {
      "cell_type": "markdown",
      "metadata": {
        "id": "xQV8TieDlwO3"
      },
      "source": [
        "**Getting visualization of few images**"
      ]
    },
    {
      "cell_type": "code",
      "metadata": {
        "id": "esjhnpttZsl0",
        "outputId": "6da89992-fc74-48ce-8ef1-4d540fac1fd5",
        "colab": {
          "base_uri": "https://localhost:8080/",
          "height": 467
        }
      },
      "source": [
        "from google.colab.patches import cv2_imshow\n",
        "\n",
        "x_data = train_data[x_columns]\n",
        "num_images = 10\n",
        "demo_image = x_data.iloc[0:num_images,:].values\n",
        "\n",
        "for i in range(num_images):\n",
        "    image = demo_image[i].reshape((28,28))\n",
        "    image = rotate(image)\n",
        "    print(i, demo_image.shape)\n",
        "    cv2_imshow(image)"
      ],
      "execution_count": 5,
      "outputs": [
        {
          "output_type": "stream",
          "text": [
            "0 (10, 784)\n"
          ],
          "name": "stdout"
        },
        {
          "output_type": "display_data",
          "data": {
            "image/png": "[encoded data removed]",
            "text/plain": [
              "<PIL.Image.Image image mode=L size=28x28 at 0x7F8D37873240>"
            ]
          },
          "metadata": {
            "tags": []
          }
        },
        {
          "output_type": "stream",
          "text": [
            "1 (10, 784)\n"
          ],
          "name": "stdout"
        },
        {
          "output_type": "display_data",
          "data": {
            "image/png": "[encoded data removed]",
            "text/plain": [
              "<PIL.Image.Image image mode=L size=28x28 at 0x7F8D3813AE48>"
            ]
          },
          "metadata": {
            "tags": []
          }
        },
        {
          "output_type": "stream",
          "text": [
            "2 (10, 784)\n"
          ],
          "name": "stdout"
        },
        {
          "output_type": "display_data",
          "data": {
            "image/png": "[encoded data removed]",
            "text/plain": [
              "<PIL.Image.Image image mode=L size=28x28 at 0x7F8D3788A080>"
            ]
          },
          "metadata": {
            "tags": []
          }
        },
        {
          "output_type": "stream",
          "text": [
            "3 (10, 784)\n"
          ],
          "name": "stdout"
        },
        {
          "output_type": "display_data",
          "data": {
            "image/png": "[encoded data removed]",
            "text/plain": [
              "<PIL.Image.Image image mode=L size=28x28 at 0x7F8D3788A080>"
            ]
          },
          "metadata": {
            "tags": []
          }
        },
        {
          "output_type": "stream",
          "text": [
            "4 (10, 784)\n"
          ],
          "name": "stdout"
        },
        {
          "output_type": "display_data",
          "data": {
            "image/png": "[encoded data removed]",
            "text/plain": [
              "<PIL.Image.Image image mode=L size=28x28 at 0x7F8D3788A8D0>"
            ]
          },
          "metadata": {
            "tags": []
          }
        },
        {
          "output_type": "stream",
          "text": [
            "5 (10, 784)\n"
          ],
          "name": "stdout"
        },
        {
          "output_type": "display_data",
          "data": {
            "image/png": "[encoded data removed]",
            "text/plain": [
              "<PIL.Image.Image image mode=L size=28x28 at 0x7F8D3788A978>"
            ]
          },
          "metadata": {
            "tags": []
          }
        },
        {
          "output_type": "stream",
          "text": [
            "6 (10, 784)\n"
          ],
          "name": "stdout"
        },
        {
          "output_type": "display_data",
          "data": {
            "image/png": "[encoded data removed]",
            "text/plain": [
              "<PIL.Image.Image image mode=L size=28x28 at 0x7F8D3788A940>"
            ]
          },
          "metadata": {
            "tags": []
          }
        },
        {
          "output_type": "stream",
          "text": [
            "7 (10, 784)\n"
          ],
          "name": "stdout"
        },
        {
          "output_type": "display_data",
          "data": {
            "image/png": "[encoded data removed]",
            "text/plain": [
              "<PIL.Image.Image image mode=L size=28x28 at 0x7F8D3788A9E8>"
            ]
          },
          "metadata": {
            "tags": []
          }
        },
        {
          "output_type": "stream",
          "text": [
            "8 (10, 784)\n"
          ],
          "name": "stdout"
        },
        {
          "output_type": "display_data",
          "data": {
            "image/png": "[encoded data removed]",
            "text/plain": [
              "<PIL.Image.Image image mode=L size=28x28 at 0x7F8D3788A8D0>"
            ]
          },
          "metadata": {
            "tags": []
          }
        },
        {
          "output_type": "stream",
          "text": [
            "9 (10, 784)\n"
          ],
          "name": "stdout"
        },
        {
          "output_type": "display_data",
          "data": {
            "image/png": "[encoded data removed]",
            "text/plain": [
              "<PIL.Image.Image image mode=L size=28x28 at 0x7F8D3788AA58>"
            ]
          },
          "metadata": {
            "tags": []
          }
        }
      ]
    },
    {
      "cell_type": "markdown",
      "metadata": {
        "id": "K46rox_cl29d"
      },
      "source": [
        "**Lets check the number of data points in each class**\n",
        "\n",
        "There are 26 different classes:\n",
        "[1,2,3,4,5,6,7,8,9,10,11,12,13,14,15,16,17,18,19,20,21,22,23,24,25,26]"
      ]
    },
    {
      "cell_type": "code",
      "metadata": {
        "id": "YDolxP2c3Su9",
        "outputId": "d3da8bf9-48fe-4562-b201-314bafc1b16a",
        "colab": {
          "base_uri": "https://localhost:8080/",
          "height": 493
        }
      },
      "source": [
        "train_data.groupby(\"23\")[\"23\"].count()"
      ],
      "execution_count": 6,
      "outputs": [
        {
          "output_type": "execute_result",
          "data": {
            "text/plain": [
              "23\n",
              "1     3396\n",
              "2     3396\n",
              "3     3419\n",
              "4     3398\n",
              "5     3437\n",
              "6     3394\n",
              "7     3385\n",
              "8     3424\n",
              "9     3428\n",
              "10    3402\n",
              "11    3438\n",
              "12    3415\n",
              "13    3402\n",
              "14    3365\n",
              "15    3408\n",
              "16    3430\n",
              "17    3435\n",
              "18    3419\n",
              "19    3392\n",
              "20    3436\n",
              "21    3419\n",
              "22    3422\n",
              "23    3422\n",
              "24    3437\n",
              "25    3453\n",
              "26    3427\n",
              "Name: 23, dtype: int64"
            ]
          },
          "metadata": {
            "tags": []
          },
          "execution_count": 6
        }
      ]
    },
    {
      "cell_type": "markdown",
      "metadata": {
        "id": "2gzsLYaumP7s"
      },
      "source": [
        "**Visualizing the few images in class \"1\"**"
      ]
    },
    {
      "cell_type": "code",
      "metadata": {
        "id": "tk9bV6Y2-Rgo",
        "outputId": "af7d3cf6-886b-4d90-a0b8-41d570c05a3b",
        "colab": {
          "base_uri": "https://localhost:8080/",
          "height": 917
        }
      },
      "source": [
        "A = train_data[train_data[\"23\"]==1]\n",
        "\n",
        "from google.colab.patches import cv2_imshow\n",
        "a_data = A[x_columns]\n",
        "num_images = 20\n",
        "demo_image = a_data.iloc[0:num_images,:].values\n",
        "for i in range(num_images):\n",
        "    image = demo_image[i].reshape((28,28))\n",
        "    image = rotate(image)\n",
        "    print(i, demo_image.shape)\n",
        "    cv2_imshow(image)"
      ],
      "execution_count": 8,
      "outputs": [
        {
          "output_type": "stream",
          "text": [
            "0 (20, 784)\n"
          ],
          "name": "stdout"
        },
        {
          "output_type": "display_data",
          "data": {
            "image/png": "[encoded data removed]",
            "text/plain": [
              "<PIL.Image.Image image mode=L size=28x28 at 0x7F8D3788ADA0>"
            ]
          },
          "metadata": {
            "tags": []
          }
        },
        {
          "output_type": "stream",
          "text": [
            "1 (20, 784)\n"
          ],
          "name": "stdout"
        },
        {
          "output_type": "display_data",
          "data": {
            "image/png": "[encoded data removed]",
            "text/plain": [
              "<PIL.Image.Image image mode=L size=28x28 at 0x7F8D37873208>"
            ]
          },
          "metadata": {
            "tags": []
          }
        },
        {
          "output_type": "stream",
          "text": [
            "2 (20, 784)\n"
          ],
          "name": "stdout"
        },
        {
          "output_type": "display_data",
          "data": {
            "image/png": "[encoded data removed]",
            "text/plain": [
              "<PIL.Image.Image image mode=L size=28x28 at 0x7F8D378A1438>"
            ]
          },
          "metadata": {
            "tags": []
          }
        },
        {
          "output_type": "stream",
          "text": [
            "3 (20, 784)\n"
          ],
          "name": "stdout"
        },
        {
          "output_type": "display_data",
          "data": {
            "image/png": "[encoded data removed]",
            "text/plain": [
              "<PIL.Image.Image image mode=L size=28x28 at 0x7F8D3788ADA0>"
            ]
          },
          "metadata": {
            "tags": []
          }
        },
        {
          "output_type": "stream",
          "text": [
            "4 (20, 784)\n"
          ],
          "name": "stdout"
        },
        {
          "output_type": "display_data",
          "data": {
            "image/png": "[encoded data removed]",
            "text/plain": [
              "<PIL.Image.Image image mode=L size=28x28 at 0x7F8D37873208>"
            ]
          },
          "metadata": {
            "tags": []
          }
        },
        {
          "output_type": "stream",
          "text": [
            "5 (20, 784)\n"
          ],
          "name": "stdout"
        },
        {
          "output_type": "display_data",
          "data": {
            "image/png": "[encoded data removed]",
            "text/plain": [
              "<PIL.Image.Image image mode=L size=28x28 at 0x7F8D378A1438>"
            ]
          },
          "metadata": {
            "tags": []
          }
        },
        {
          "output_type": "stream",
          "text": [
            "6 (20, 784)\n"
          ],
          "name": "stdout"
        },
        {
          "output_type": "display_data",
          "data": {
            "image/png": "[encoded data removed]",
            "text/plain": [
              "<PIL.Image.Image image mode=L size=28x28 at 0x7F8D3788ADA0>"
            ]
          },
          "metadata": {
            "tags": []
          }
        },
        {
          "output_type": "stream",
          "text": [
            "7 (20, 784)\n"
          ],
          "name": "stdout"
        },
        {
          "output_type": "display_data",
          "data": {
            "image/png": "[encoded data removed]",
            "text/plain": [
              "<PIL.Image.Image image mode=L size=28x28 at 0x7F8D37873208>"
            ]
          },
          "metadata": {
            "tags": []
          }
        },
        {
          "output_type": "stream",
          "text": [
            "8 (20, 784)\n"
          ],
          "name": "stdout"
        },
        {
          "output_type": "display_data",
          "data": {
            "image/png": "[encoded data removed]",
            "text/plain": [
              "<PIL.Image.Image image mode=L size=28x28 at 0x7F8D378A1438>"
            ]
          },
          "metadata": {
            "tags": []
          }
        },
        {
          "output_type": "stream",
          "text": [
            "9 (20, 784)\n"
          ],
          "name": "stdout"
        },
        {
          "output_type": "display_data",
          "data": {
            "image/png": "[encoded data removed]",
            "text/plain": [
              "<PIL.Image.Image image mode=L size=28x28 at 0x7F8D3788ADA0>"
            ]
          },
          "metadata": {
            "tags": []
          }
        },
        {
          "output_type": "stream",
          "text": [
            "10 (20, 784)\n"
          ],
          "name": "stdout"
        },
        {
          "output_type": "display_data",
          "data": {
            "image/png": "[encoded data removed]",
            "text/plain": [
              "<PIL.Image.Image image mode=L size=28x28 at 0x7F8D37873208>"
            ]
          },
          "metadata": {
            "tags": []
          }
        },
        {
          "output_type": "stream",
          "text": [
            "11 (20, 784)\n"
          ],
          "name": "stdout"
        },
        {
          "output_type": "display_data",
          "data": {
            "image/png": "[encoded data removed]",
            "text/plain": [
              "<PIL.Image.Image image mode=L size=28x28 at 0x7F8D378A1438>"
            ]
          },
          "metadata": {
            "tags": []
          }
        },
        {
          "output_type": "stream",
          "text": [
            "12 (20, 784)\n"
          ],
          "name": "stdout"
        },
        {
          "output_type": "display_data",
          "data": {
            "image/png": "[encoded data removed]",
            "text/plain": [
              "<PIL.Image.Image image mode=L size=28x28 at 0x7F8D3788ADA0>"
            ]
          },
          "metadata": {
            "tags": []
          }
        },
        {
          "output_type": "stream",
          "text": [
            "13 (20, 784)\n"
          ],
          "name": "stdout"
        },
        {
          "output_type": "display_data",
          "data": {
            "image/png": "[encoded data removed]",
            "text/plain": [
              "<PIL.Image.Image image mode=L size=28x28 at 0x7F8D37873208>"
            ]
          },
          "metadata": {
            "tags": []
          }
        },
        {
          "output_type": "stream",
          "text": [
            "14 (20, 784)\n"
          ],
          "name": "stdout"
        },
        {
          "output_type": "display_data",
          "data": {
            "image/png": "[encoded data removed]",
            "text/plain": [
              "<PIL.Image.Image image mode=L size=28x28 at 0x7F8D378A1438>"
            ]
          },
          "metadata": {
            "tags": []
          }
        },
        {
          "output_type": "stream",
          "text": [
            "15 (20, 784)\n"
          ],
          "name": "stdout"
        },
        {
          "output_type": "display_data",
          "data": {
            "image/png": "[encoded data removed]",
            "text/plain": [
              "<PIL.Image.Image image mode=L size=28x28 at 0x7F8D3788ADA0>"
            ]
          },
          "metadata": {
            "tags": []
          }
        },
        {
          "output_type": "stream",
          "text": [
            "16 (20, 784)\n"
          ],
          "name": "stdout"
        },
        {
          "output_type": "display_data",
          "data": {
            "image/png": "[encoded data removed]",
            "text/plain": [
              "<PIL.Image.Image image mode=L size=28x28 at 0x7F8D37873208>"
            ]
          },
          "metadata": {
            "tags": []
          }
        },
        {
          "output_type": "stream",
          "text": [
            "17 (20, 784)\n"
          ],
          "name": "stdout"
        },
        {
          "output_type": "display_data",
          "data": {
            "image/png": "[encoded data removed]",
            "text/plain": [
              "<PIL.Image.Image image mode=L size=28x28 at 0x7F8D378A1438>"
            ]
          },
          "metadata": {
            "tags": []
          }
        },
        {
          "output_type": "stream",
          "text": [
            "18 (20, 784)\n"
          ],
          "name": "stdout"
        },
        {
          "output_type": "display_data",
          "data": {
            "image/png": "[encoded data removed]",
            "text/plain": [
              "<PIL.Image.Image image mode=L size=28x28 at 0x7F8D3788ADA0>"
            ]
          },
          "metadata": {
            "tags": []
          }
        },
        {
          "output_type": "stream",
          "text": [
            "19 (20, 784)\n"
          ],
          "name": "stdout"
        },
        {
          "output_type": "display_data",
          "data": {
            "image/png": "[encoded data removed]",
            "text/plain": [
              "<PIL.Image.Image image mode=L size=28x28 at 0x7F8D37873208>"
            ]
          },
          "metadata": {
            "tags": []
          }
        }
      ]
    },
    {
      "cell_type": "markdown",
      "metadata": {
        "id": "eqcxFUkTLeyt"
      },
      "source": [
        "**According to the problem statement we need to ommit any 6 classes randomly and do training on rest 20 classes.**\n",
        "\n",
        "So lets make list of them.\n",
        "\n",
        "**Excluded classes** = [2, 15, 20, 6, 14, 25]\n",
        "\n",
        "**kept classes** = [1,3,4,5,7,8,9,10,11,12,13,16,17,18,19,21,22,23,24,26]"
      ]
    },
    {
      "cell_type": "code",
      "metadata": {
        "id": "UcKnlVuVMc3O",
        "outputId": "c8be5773-4d53-485b-f735-6426ff8b8755",
        "colab": {
          "base_uri": "https://localhost:8080/",
          "height": 34
        }
      },
      "source": [
        "excluded_classes = [2, 15, 20, 6, 14, 25]\n",
        "kept_classes = [1,3,4,5,7,8,9,10,11,12,13,16,17,18,19,21,22,23,24,26]\n",
        "\n",
        "new_train_data = train_data[train_data[\"23\"]!=2]\n",
        "new_train_data = new_train_data[new_train_data[\"23\"]!=15]\n",
        "new_train_data = new_train_data[new_train_data[\"23\"]!=20]\n",
        "new_train_data = new_train_data[new_train_data[\"23\"]!=6]\n",
        "new_train_data = new_train_data[new_train_data[\"23\"]!=14]\n",
        "new_train_data = new_train_data[new_train_data[\"23\"]!=25]\n",
        "\n",
        "print(new_train_data.values.shape)"
      ],
      "execution_count": 9,
      "outputs": [
        {
          "output_type": "stream",
          "text": [
            "(68347, 785)\n"
          ],
          "name": "stdout"
        }
      ]
    },
    {
      "cell_type": "markdown",
      "metadata": {
        "id": "r5_rhwFNnmk-"
      },
      "source": [
        "Now we need to create similar image pairs and dissimilar image pairs.\n",
        "\n",
        "To achieve this we make below Naive assumption:\n",
        "\n",
        "if images are in the same group or belong to same class then similarity is 1 otherwise it is 0.\n",
        "\n",
        "If we randomly selected all of the images we would likely end up with most images in different groups.\n",
        "\n",
        "**Logic of generating similar image pair:** In the pair first we will pick an image of any class then another image will be picked up by random sampling in the same class and label=1 will be given to that pair.\n",
        "\n",
        "**Logic of generating dissimilar image pair:** In the pair first we will pick an image of any class then another image will be picked up by random sampling from the other classes not from the same class and label=0 will be given to that pair.\n",
        "\n",
        "so if images are similar in the pair then label=1\n",
        "\n",
        "and if images are dissimilar in the pair then label=0\n"
      ]
    },
    {
      "cell_type": "markdown",
      "metadata": {
        "id": "K0VW3ktO2YRx"
      },
      "source": [
        "**Below function is defined to genrate image pairs and labels associated with them.**\n"
      ]
    },
    {
      "cell_type": "code",
      "metadata": {
        "id": "KzkPnQHok3-a"
      },
      "source": [
        "def create_image_pairs(dataframe, classes, create_similar_pair=True, data_type=\"train\", label=1):\n",
        "    labels = []\n",
        "    pairs = []\n",
        "    triplets = []\n",
        "    for cls in classes:\n",
        "        class_df = dataframe[dataframe[\"23\"]==cls]\n",
        "\n",
        "        if not create_similar_pair:\n",
        "            rest_other_classes_data = dataframe[dataframe[\"23\"]!=cls]\n",
        "\n",
        "        for idx, row in class_df.iterrows():\n",
        "            data1 = row[x_columns].values\n",
        "            data1 = data1.reshape((28,28))\n",
        "            image_data1 = rotate(data1)\n",
        "\n",
        "            if create_similar_pair:\n",
        "                sampled_row = class_df.sample()\n",
        "            else:\n",
        "                sampled_row = rest_other_classes_data.sample()\n",
        "\n",
        "            data2 = sampled_row[x_columns].values\n",
        "            data2 = data2.reshape((28,28))\n",
        "            image_data2 = rotate(data2)\n",
        "\n",
        "            labels += [label]\n",
        "            pairs += [[image_data1, image_data2]]\n",
        "            triplets += [[image_data1, image_data2, [label]]]\n",
        "        \n",
        "        print(\"class: {} Done.\".format(cls))\n",
        "\n",
        "    if create_similar_pair:\n",
        "        outfile_images = data_type+\"_similar_images.npy\"\n",
        "        outfile_labels = data_type+\"_similar_images_label.npy\"\n",
        "    else:\n",
        "        outfile_images = data_type+\"_dissimilar_images.npy\"\n",
        "        outfile_labels = data_type+\"_dissimilar_images_label.npy\"\n",
        "\n",
        "    np.save(os.path.join(data_path, outfile_images),np.array(pairs))\n",
        "    np.save(os.path.join(data_path, outfile_labels),np.array(labels))\n",
        "\n",
        "    return np.array(pairs), np.array(labels)\n"
      ],
      "execution_count": 11,
      "outputs": []
    },
    {
      "cell_type": "markdown",
      "metadata": {
        "id": "sMTsyMSPpmEi"
      },
      "source": [
        "**Creating pair of similar Images pairs and their labels for training**"
      ]
    },
    {
      "cell_type": "code",
      "metadata": {
        "id": "Qe-XShNd-aJK",
        "outputId": "2c4379f9-7d82-4683-ef38-394188124f5e",
        "colab": {
          "base_uri": "https://localhost:8080/",
          "height": 408
        }
      },
      "source": [
        "similar_images_pairs, similar_images_labels = create_image_pairs(new_train_data, kept_classes, create_similar_pair=True, data_type=\"train\", label=1)\n",
        "print(\"similar_images_pairs shape: {}\".format(similar_images_pairs.shape))\n",
        "print(\"similar_images_labels shape: {}\".format(similar_images_labels.shape))\n",
        "print(\"train_data shape: {}\".format(new_train_data.shape))"
      ],
      "execution_count": 12,
      "outputs": [
        {
          "output_type": "stream",
          "text": [
            "class: 1 Done.\n",
            "class: 3 Done.\n",
            "class: 4 Done.\n",
            "class: 5 Done.\n",
            "class: 7 Done.\n",
            "class: 8 Done.\n",
            "class: 9 Done.\n",
            "class: 10 Done.\n",
            "class: 11 Done.\n",
            "class: 12 Done.\n",
            "class: 13 Done.\n",
            "class: 16 Done.\n",
            "class: 17 Done.\n",
            "class: 18 Done.\n",
            "class: 19 Done.\n",
            "class: 21 Done.\n",
            "class: 22 Done.\n",
            "class: 23 Done.\n",
            "class: 24 Done.\n",
            "class: 26 Done.\n",
            "similar_images_pairs shape: (68347, 2, 28, 28)\n",
            "similar_images_labels shape: (68347,)\n",
            "train_data shape: (68347, 785)\n"
          ],
          "name": "stdout"
        }
      ]
    },
    {
      "cell_type": "markdown",
      "metadata": {
        "id": "FjcT44Xypx99"
      },
      "source": [
        "**Visualizing few similar image pairs**"
      ]
    },
    {
      "cell_type": "code",
      "metadata": {
        "id": "oZn_iIwR8Nbl",
        "outputId": "beeb09d6-7d49-486a-d0f0-cef7946efe1f",
        "colab": {
          "base_uri": "https://localhost:8080/",
          "height": 241
        }
      },
      "source": [
        "cv2_imshow(similar_images_pairs[:,0][1])\n",
        "cv2_imshow(similar_images_pairs[:,1][1])\n",
        "cv2_imshow(similar_images_pairs[:,0][2])\n",
        "cv2_imshow(similar_images_pairs[:,1][2])\n",
        "cv2_imshow(similar_images_pairs[:,0][3])\n",
        "cv2_imshow(similar_images_pairs[:,1][3])\n",
        "cv2_imshow(similar_images_pairs[:,0][4])\n",
        "cv2_imshow(similar_images_pairs[:,1][4])"
      ],
      "execution_count": 13,
      "outputs": [
        {
          "output_type": "display_data",
          "data": {
            "image/png": "[encoded data removed]",
            "text/plain": [
              "<PIL.Image.Image image mode=L size=28x28 at 0x7F8D2A858D30>"
            ]
          },
          "metadata": {
            "tags": []
          }
        },
        {
          "output_type": "display_data",
          "data": {
            "image/png": "[encoded data removed]",
            "text/plain": [
              "<PIL.Image.Image image mode=L size=28x28 at 0x7F8D2A858E10>"
            ]
          },
          "metadata": {
            "tags": []
          }
        },
        {
          "output_type": "display_data",
          "data": {
            "image/png": "[encoded data removed]",
            "text/plain": [
              "<PIL.Image.Image image mode=L size=28x28 at 0x7F8D2A858C88>"
            ]
          },
          "metadata": {
            "tags": []
          }
        },
        {
          "output_type": "display_data",
          "data": {
            "image/png": "[encoded data removed]",
            "text/plain": [
              "<PIL.Image.Image image mode=L size=28x28 at 0x7F8D2A858D30>"
            ]
          },
          "metadata": {
            "tags": []
          }
        },
        {
          "output_type": "display_data",
          "data": {
            "image/png": "[encoded data removed]",
            "text/plain": [
              "<PIL.Image.Image image mode=L size=28x28 at 0x7F8D2A858E10>"
            ]
          },
          "metadata": {
            "tags": []
          }
        },
        {
          "output_type": "display_data",
          "data": {
            "image/png": "[encoded data removed]",
            "text/plain": [
              "<PIL.Image.Image image mode=L size=28x28 at 0x7F8D2A858C88>"
            ]
          },
          "metadata": {
            "tags": []
          }
        },
        {
          "output_type": "display_data",
          "data": {
            "image/png": "[encoded data removed]",
            "text/plain": [
              "<PIL.Image.Image image mode=L size=28x28 at 0x7F8D2A858D30>"
            ]
          },
          "metadata": {
            "tags": []
          }
        },
        {
          "output_type": "display_data",
          "data": {
            "image/png": "[encoded data removed]",
            "text/plain": [
              "<PIL.Image.Image image mode=L size=28x28 at 0x7F8D2A858E10>"
            ]
          },
          "metadata": {
            "tags": []
          }
        }
      ]
    },
    {
      "cell_type": "markdown",
      "metadata": {
        "id": "CFKinF7f9vNP"
      },
      "source": [
        "**Create Dissimilar images pairs and their labels for training**"
      ]
    },
    {
      "cell_type": "code",
      "metadata": {
        "id": "hI29xkIBptxF",
        "outputId": "2452f610-f17a-48cf-fc26-d11d1dd447e3",
        "colab": {
          "base_uri": "https://localhost:8080/",
          "height": 408
        }
      },
      "source": [
        "dissimilar_images_pairs, dissimilar_images_labels = create_image_pairs(new_train_data, kept_classes, create_similar_pair=False, data_type=\"train\", label=0)\n",
        "print(\"dissimilar_images_pairs shape: {}\".format(dissimilar_images_pairs.shape))\n",
        "print(\"dissimilar_images_labels shape: {}\".format(dissimilar_images_labels.shape))\n",
        "print(\"train_data shape: {}\".format(new_train_data.shape))"
      ],
      "execution_count": 14,
      "outputs": [
        {
          "output_type": "stream",
          "text": [
            "class: 1 Done.\n",
            "class: 3 Done.\n",
            "class: 4 Done.\n",
            "class: 5 Done.\n",
            "class: 7 Done.\n",
            "class: 8 Done.\n",
            "class: 9 Done.\n",
            "class: 10 Done.\n",
            "class: 11 Done.\n",
            "class: 12 Done.\n",
            "class: 13 Done.\n",
            "class: 16 Done.\n",
            "class: 17 Done.\n",
            "class: 18 Done.\n",
            "class: 19 Done.\n",
            "class: 21 Done.\n",
            "class: 22 Done.\n",
            "class: 23 Done.\n",
            "class: 24 Done.\n",
            "class: 26 Done.\n",
            "dissimilar_images_pairs shape: (68347, 2, 28, 28)\n",
            "dissimilar_images_labels shape: (68347,)\n",
            "train_data shape: (68347, 785)\n"
          ],
          "name": "stdout"
        }
      ]
    },
    {
      "cell_type": "code",
      "metadata": {
        "id": "x5julKFF8rqF",
        "outputId": "9648f4ac-b0d6-4739-c35d-84815515ff85",
        "colab": {
          "base_uri": "https://localhost:8080/",
          "height": 34
        }
      },
      "source": [
        "dissimilar_images_labels[:4]"
      ],
      "execution_count": 15,
      "outputs": [
        {
          "output_type": "execute_result",
          "data": {
            "text/plain": [
              "array([0, 0, 0, 0])"
            ]
          },
          "metadata": {
            "tags": []
          },
          "execution_count": 15
        }
      ]
    },
    {
      "cell_type": "markdown",
      "metadata": {
        "id": "wMeYiGdiqK_h"
      },
      "source": [
        "**Visualize dissimilar image pairs**"
      ]
    },
    {
      "cell_type": "code",
      "metadata": {
        "id": "IWHMQRZ78lEX",
        "outputId": "e52b841d-e8cb-4354-9164-e1f82b4bbd3a",
        "colab": {
          "base_uri": "https://localhost:8080/",
          "height": 241
        }
      },
      "source": [
        "cv2_imshow(dissimilar_images_pairs[:,0][1])\n",
        "cv2_imshow(dissimilar_images_pairs[:,1][1])\n",
        "cv2_imshow(dissimilar_images_pairs[:,0][2])\n",
        "cv2_imshow(dissimilar_images_pairs[:,1][2])\n",
        "cv2_imshow(dissimilar_images_pairs[:,0][3])\n",
        "cv2_imshow(dissimilar_images_pairs[:,1][3])\n",
        "cv2_imshow(dissimilar_images_pairs[:,0][4])\n",
        "cv2_imshow(dissimilar_images_pairs[:,1][4])"
      ],
      "execution_count": 16,
      "outputs": [
        {
          "output_type": "display_data",
          "data": {
            "image/png": "[encoded data removed]",
            "text/plain": [
              "<PIL.Image.Image image mode=L size=28x28 at 0x7F8D2A6DAE48>"
            ]
          },
          "metadata": {
            "tags": []
          }
        },
        {
          "output_type": "display_data",
          "data": {
            "image/png": "[encoded data removed]",
            "text/plain": [
              "<PIL.Image.Image image mode=L size=28x28 at 0x7F8D2A6DADA0>"
            ]
          },
          "metadata": {
            "tags": []
          }
        },
        {
          "output_type": "display_data",
          "data": {
            "image/png": "[encoded data removed]",
            "text/plain": [
              "<PIL.Image.Image image mode=L size=28x28 at 0x7F8D2A6DAD68>"
            ]
          },
          "metadata": {
            "tags": []
          }
        },
        {
          "output_type": "display_data",
          "data": {
            "image/png": "[encoded data removed]",
            "text/plain": [
              "<PIL.Image.Image image mode=L size=28x28 at 0x7F8D2A6DAE48>"
            ]
          },
          "metadata": {
            "tags": []
          }
        },
        {
          "output_type": "display_data",
          "data": {
            "image/png": "[encoded data removed]",
            "text/plain": [
              "<PIL.Image.Image image mode=L size=28x28 at 0x7F8D2A6DADA0>"
            ]
          },
          "metadata": {
            "tags": []
          }
        },
        {
          "output_type": "display_data",
          "data": {
            "image/png": "[encoded data removed]",
            "text/plain": [
              "<PIL.Image.Image image mode=L size=28x28 at 0x7F8D2A6DAD68>"
            ]
          },
          "metadata": {
            "tags": []
          }
        },
        {
          "output_type": "display_data",
          "data": {
            "image/png": "[encoded data removed]",
            "text/plain": [
              "<PIL.Image.Image image mode=L size=28x28 at 0x7F8D2A6DAE48>"
            ]
          },
          "metadata": {
            "tags": []
          }
        },
        {
          "output_type": "display_data",
          "data": {
            "image/png": "[encoded data removed]",
            "text/plain": [
              "<PIL.Image.Image image mode=L size=28x28 at 0x7F8D2A6DADA0>"
            ]
          },
          "metadata": {
            "tags": []
          }
        }
      ]
    },
    {
      "cell_type": "markdown",
      "metadata": {
        "id": "jgXAmLFUxpaV"
      },
      "source": [
        "**Preparing test data in the same way the traing data was prepared**\n",
        "\n",
        "But here we will generate the images pairs from the classes which we excluded in while preparing the training data.\n",
        "i.e Excluded classes = [2, 15, 20, 6, 14, 25]\n",
        "\n",
        "so this test data would be totally unseen to the model.\n"
      ]
    },
    {
      "cell_type": "code",
      "metadata": {
        "id": "3WX4_SejxtjQ",
        "outputId": "92f8e354-bf7a-49f3-ea9a-e01543bc2712",
        "colab": {
          "base_uri": "https://localhost:8080/",
          "height": 272
        }
      },
      "source": [
        "test_data = train_data[train_data[\"23\"].isin(excluded_classes)]\n",
        "print(test_data.shape)\n",
        "test_similar_images_pairs, test_similar_images_labels = create_image_pairs(train_data, excluded_classes, create_similar_pair=True, data_type=\"test\", label=1)\n",
        "print(\"test_similar_images_pairs shape: {}, test_similar_images_labels shape: {}\".format(test_similar_images_pairs.shape, test_similar_images_labels.shape))\n",
        "test_dissimilar_images_pairs, test_dissimilar_images_labels = create_image_pairs(train_data, excluded_classes, create_similar_pair=False, data_type=\"test\", label=0)\n",
        "print(\"test_dissimilar_images_pairs shape: {}, test_dissimilar_images_labels shape: {}\".format(test_dissimilar_images_pairs.shape, test_dissimilar_images_labels.shape))"
      ],
      "execution_count": 17,
      "outputs": [
        {
          "output_type": "stream",
          "text": [
            "(20452, 785)\n",
            "class: 2 Done.\n",
            "class: 15 Done.\n",
            "class: 20 Done.\n",
            "class: 6 Done.\n",
            "class: 14 Done.\n",
            "class: 25 Done.\n",
            "test_similar_images_pairs shape: (20452, 2, 28, 28), test_similar_images_labels shape: (20452,)\n",
            "class: 2 Done.\n",
            "class: 15 Done.\n",
            "class: 20 Done.\n",
            "class: 6 Done.\n",
            "class: 14 Done.\n",
            "class: 25 Done.\n",
            "test_dissimilar_images_pairs shape: (20452, 2, 28, 28), test_dissimilar_images_labels shape: (20452,)\n"
          ],
          "name": "stdout"
        }
      ]
    },
    {
      "cell_type": "markdown",
      "metadata": {
        "id": "XtMlT0D9Pr6a"
      },
      "source": [
        "Read the saved data"
      ]
    },
    {
      "cell_type": "code",
      "metadata": {
        "id": "Bs65vlbjPuRv",
        "outputId": "5863a243-6c56-445f-dbaa-e33d5510ba29",
        "colab": {
          "base_uri": "https://localhost:8080/",
          "height": 153
        }
      },
      "source": [
        "import numpy as np\n",
        "\n",
        "similar_images_pairs = np.load(os.path.join(data_path,\"train_similar_images.npy\"))\n",
        "similar_images_labels = np.load(os.path.join(data_path,\"train_similar_images_label.npy\"))\n",
        "dissimilar_images_pairs = np.load(os.path.join(data_path,\"train_dissimilar_images.npy\"))\n",
        "dissimilar_images_labels = np.load(os.path.join(data_path,\"train_dissimilar_images_label.npy\"))\n",
        "test_similar_images_pairs = np.load(os.path.join(data_path,\"test_similar_images.npy\"))\n",
        "test_similar_images_labels = np.load(os.path.join(data_path,\"test_similar_images_label.npy\"))\n",
        "test_dissimilar_images_pairs = np.load(os.path.join(data_path,\"test_dissimilar_images.npy\"))\n",
        "test_dissimilar_images_labels = np.load(os.path.join(data_path,\"test_dissimilar_images_label.npy\"))\n",
        "\n",
        "print(\"similar_images_pairs shape: {}\".format(similar_images_pairs.shape))\n",
        "print(\"similar_images_labels shape: {}\".format(similar_images_labels.shape))\n",
        "print(\"dissimilar_images_pairs shape: {}\".format(dissimilar_images_pairs.shape))\n",
        "print(\"dissimilar_images_labels shape: {}\".format(dissimilar_images_labels.shape))\n",
        "print(\"test_similar_images_pairs shape: {}\".format(test_similar_images_pairs.shape))\n",
        "print(\"test_similar_images_labels shape: {}\".format(test_similar_images_labels.shape))\n",
        "print(\"test_dissimilar_images_pairs shape: {}\".format(test_dissimilar_images_pairs.shape))\n",
        "print(\"test_dissimilar_images_labels shape: {}\".format(test_dissimilar_images_labels.shape))"
      ],
      "execution_count": 3,
      "outputs": [
        {
          "output_type": "stream",
          "text": [
            "similar_images_pairs shape: (68347, 2, 28, 28)\n",
            "similar_images_labels shape: (68347,)\n",
            "dissimilar_images_pairs shape: (68347, 2, 28, 28)\n",
            "dissimilar_images_labels shape: (68347,)\n",
            "test_similar_images_pairs shape: (20452, 2, 28, 28)\n",
            "test_similar_images_labels shape: (20452,)\n",
            "test_dissimilar_images_pairs shape: (20452, 2, 28, 28)\n",
            "test_dissimilar_images_labels shape: (20452,)\n"
          ],
          "name": "stdout"
        }
      ]
    },
    {
      "cell_type": "markdown",
      "metadata": {
        "id": "Z9aPQ2v29llD"
      },
      "source": [
        "**Shuffling Train and Test data**"
      ]
    },
    {
      "cell_type": "code",
      "metadata": {
        "id": "Xq59KhO4zzyX",
        "outputId": "3a841c10-d453-4f38-9492-2341758b2b8c",
        "colab": {
          "base_uri": "https://localhost:8080/",
          "height": 153
        }
      },
      "source": [
        "import random\n",
        "\n",
        "print(\"Before Shuffling: \")\n",
        "total_train_image_pairs = np.concatenate((similar_images_pairs, dissimilar_images_pairs))\n",
        "total_train_labels = np.concatenate((similar_images_labels, dissimilar_images_labels))\n",
        "print(\"total_train_image_pairs shape: {}, total_train_labels shape: {}\".format(total_train_image_pairs.shape, total_train_labels.shape))\n",
        "total_test_image_pairs = np.concatenate((test_similar_images_pairs, test_dissimilar_images_pairs))\n",
        "total_test_labels = np.concatenate((test_similar_images_labels, test_dissimilar_images_labels))\n",
        "print(\"total_test_image_pairs shape: {}, total_test_labels: {}\".format(total_test_image_pairs.shape, total_test_labels.shape))\n",
        "\n",
        "print(\"\\n\")\n",
        "print(\"After Shuffling: \")\n",
        "c = list(zip(total_train_image_pairs, total_train_labels))\n",
        "random.shuffle(c)\n",
        "total_train_image_pairs, total_train_labels = zip(*c)\n",
        "total_train_image_pairs = np.array(total_train_image_pairs)\n",
        "total_train_labels = np.array(total_train_labels)\n",
        "print(\"total_train_image_pairs shape: {}, total_train_labels shape: {}\".format(total_train_image_pairs.shape, total_train_labels.shape))\n",
        "\n",
        "\n",
        "c = list(zip(total_test_image_pairs, total_test_labels))\n",
        "random.shuffle(c)\n",
        "total_test_image_pairs, total_test_labels = zip(*c)\n",
        "total_test_image_pairs = np.array(total_test_image_pairs)\n",
        "total_test_labels = np.array(total_test_labels)\n",
        "print(\"total_test_image_pairs shape: {}, total_test_labels: {}\".format(total_test_image_pairs.shape, total_test_labels.shape))"
      ],
      "execution_count": 4,
      "outputs": [
        {
          "output_type": "stream",
          "text": [
            "Before Shuffling: \n",
            "total_train_image_pairs shape: (136694, 2, 28, 28), total_train_labels shape: (136694,)\n",
            "total_test_image_pairs shape: (40904, 2, 28, 28), total_test_labels: (40904,)\n",
            "\n",
            "\n",
            "After Shuffling: \n",
            "total_train_image_pairs shape: (136694, 2, 28, 28), total_train_labels shape: (136694,)\n",
            "total_test_image_pairs shape: (40904, 2, 28, 28), total_test_labels: (40904,)\n"
          ],
          "name": "stdout"
        }
      ]
    },
    {
      "cell_type": "markdown",
      "metadata": {
        "id": "hu_5SDR6rTiW"
      },
      "source": [
        "**Define Some metric and distance functions**"
      ]
    },
    {
      "cell_type": "code",
      "metadata": {
        "id": "ccDa8muwfzHV"
      },
      "source": [
        "def euclidean_distance(vect1, vect2):\n",
        "    x, y = vect1, vect2\n",
        "    sum_square = K.sum(K.square(x - y), axis=1, keepdims=True)\n",
        "    return K.sqrt(K.maximum(sum_square, K.epsilon()))\n",
        "\n",
        "def eucl_dist_output_shape(shapes):\n",
        "    shape1, shape2 = shapes\n",
        "    return (shape1[0], 1)\n",
        "\n",
        "def compute_accuracy(y_true, y_pred):\n",
        "    pred = y_pred.ravel() > 0.5\n",
        "    return np.mean(pred == y_true)\n",
        "\n",
        "def accuracy(y_true, y_pred):\n",
        "    return K.mean(K.equal(y_true, K.cast(y_pred > 0.5, y_true.dtype)))"
      ],
      "execution_count": 5,
      "outputs": []
    },
    {
      "cell_type": "markdown",
      "metadata": {
        "id": "v-QhGYGArZ7x"
      },
      "source": [
        "**Creating a model:**\n",
        "\n",
        "here we will create a siamese network with below architecture:\n",
        "\n",
        "**Note**: In the model we are keeping the validation data ratio as 10% to validate the model\n",
        "\n",
        "Since we are using totally unseen data for testing so test data might have a different distribution from train data. It a problem of **Covariate Shift** so in case of covariate shift, adding  **BatchNormalization** might be useful while traing the model.\n",
        "\n",
        "**Model output**: model will output the similarity score between images in the pairs. We can choose a optimal threshold on this score to classify them as similar(1) or not similar(0)"
      ]
    },
    {
      "cell_type": "markdown",
      "metadata": {
        "id": "Wyu3xPXsASrW"
      },
      "source": [
        "**Plese follow below architecture:**\n",
        "\n",
        "![letter_similarity_model_arch.png](data:image/png;base64,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)\n",
        "\n"
      ]
    },
    {
      "cell_type": "code",
      "metadata": {
        "id": "Apls1MZlf-SF",
        "outputId": "e80a6eec-74f3-4bac-ad41-197606070c7a",
        "colab": {
          "base_uri": "https://localhost:8080/",
          "height": 1000
        }
      },
      "source": [
        "import keras\n",
        "from keras.layers import Conv2D, Dropout, Flatten, Dense, MaxPooling2D, SpatialDropout2D, Lambda, Input, BatchNormalization\n",
        "from keras.models import Model\n",
        "from keras.utils.vis_utils import plot_model\n",
        "import numpy as np\n",
        "import pandas as pd\n",
        "from keras import backend as K\n",
        "import random\n",
        "import os\n",
        "import cv2\n",
        "from keras.optimizers import SGD, Adam\n",
        "from sklearn.utils import shuffle\n",
        "\n",
        "num_classes = 2\n",
        "epochs = 30\n",
        "\n",
        "lr_schedule = keras.optimizers.schedules.ExponentialDecay(\n",
        "    initial_learning_rate=0.1,\n",
        "    decay_steps=50,\n",
        "    decay_rate=0.0001)\n",
        "\n",
        "adam = Adam(learning_rate=lr_schedule)\n",
        "sgd1 = SGD(learning_rate=lr_schedule)\n",
        "sgd2 = SGD(learning_rate=0.001)\n",
        "\n",
        "\n",
        "input_shape=(28, 28, 1)\n",
        "\n",
        "left_input = Input(shape=input_shape)\n",
        "right_input = Input(shape=input_shape)\n",
        "\n",
        "base_model  = keras.Sequential()\n",
        "\n",
        "base_model.add(Conv2D(128, kernel_size=5, input_shape=input_shape, strides=1, activation=\"relu\"))\n",
        "base_model.add(MaxPooling2D(pool_size=3, strides=1))\n",
        "# base_model.add(SpatialDropout2D(rate=0.2))\n",
        "\n",
        "base_model.add(Conv2D(256, kernel_size=3, strides=1, activation=\"relu\"))\n",
        "base_model.add(MaxPooling2D(pool_size=3, strides=1))\n",
        "base_model.add(BatchNormalization())\n",
        "\n",
        "base_model.add(Conv2D(512, kernel_size=3, strides=1, activation=\"relu\"))\n",
        "base_model.add(MaxPooling2D(pool_size=3, strides=1))\n",
        "base_model.add(SpatialDropout2D(rate=0.3))\n",
        "\n",
        "\n",
        "\n",
        "base_model.add(Flatten())\n",
        "base_model.add(Dense(1024, activation='relu'))\n",
        "base_model.add(BatchNormalization())\n",
        "base_model.add(Dense(512, activation='relu'))\n",
        "base_model.add(BatchNormalization())\n",
        "base_model.add(Dropout(rate=0.2))\n",
        "base_model.add(Dense(256, activation=\"relu\"))\n",
        "\n",
        "encoded_l = base_model(left_input)\n",
        "encoded_r = base_model(right_input)\n",
        "\n",
        "L1_layer = Lambda(lambda tensors:K.abs(tensors[0] - tensors[1]))\n",
        "L1_distance = L1_layer([encoded_l, encoded_r])\n",
        "# L2_distance = euclidean_distance(encoded_l, encoded_r)\n",
        "\n",
        "prediction = Dense(1,activation='sigmoid')(L1_distance)\n",
        "# prediction = Dense(1,activation='sigmoid')(L2_distance)\n",
        "model = Model(inputs=[left_input,right_input],outputs=prediction)\n",
        "\n",
        "plot_model(model, to_file='model.png')\n",
        "\n",
        "early_stopping_callback=keras.callbacks.EarlyStopping(monitor='val_loss', patience=10)\n",
        "\n",
        "model.compile(loss=\"binary_crossentropy\", optimizer=sgd2, metrics=[accuracy])\n",
        "print(model.summary())\n",
        "\n",
        "model_history = model.fit([total_train_image_pairs [:, 0].reshape(-1, 28,28, 1), total_train_image_pairs [:, 1].reshape(-1, 28, 28, 1)], total_train_labels ,\n",
        "          batch_size=128,\n",
        "          epochs=epochs,\n",
        "          validation_split=0.1,\n",
        "          callbacks=[early_stopping_callback])\n",
        "\n",
        "# model.save(os.path.join(path,'letters_similarity_model_sigmoid.h5'))\n",
        "\n",
        "import matplotlib.pyplot as plt\n",
        "# summarize history for accracy\n",
        "plt.plot(model_history.history['accuracy'])\n",
        "plt.plot(model_history.history['val_accuracy'])\n",
        "plt.title('model accuracy')\n",
        "plt.ylabel('accuracy')\n",
        "plt.xlabel('epoch')\n",
        "plt.legend(['train', 'test'], loc='upper left')\n",
        "plt.show()\n",
        "plt.savefig(os.path.join(data_path,\"accuracy_sigmoid.png\"))\n",
        "plt.close()\n",
        "\n",
        "# summarize history for loss\n",
        "plt.plot(model_history.history['loss'])\n",
        "plt.plot(model_history.history['val_loss'])\n",
        "plt.title('model loss')\n",
        "plt.ylabel('loss')\n",
        "plt.xlabel('epoch')\n",
        "plt.legend(['train', 'test'], loc='upper left')\n",
        "plt.show()\n",
        "plt.savefig(os.path.join(data_path,\"loss_sigmoid.png\"))\n",
        "plt.close()\n",
        "\n",
        "#validation_data=([total_test_image_pairs [:, 0].reshape(-1, 28,28, 1), total_test_image_pairs [:, 1].reshape(-1, 28, 28, 1)], total_test_labels),"
      ],
      "execution_count": 6,
      "outputs": [
        {
          "output_type": "stream",
          "text": [
            "Model: \"functional_1\"\n",
            "__________________________________________________________________________________________________\n",
            "Layer (type)                    Output Shape         Param #     Connected to                     \n",
            "==================================================================================================\n",
            "input_1 (InputLayer)            [(None, 28, 28, 1)]  0                                            \n",
            "__________________________________________________________________________________________________\n",
            "input_2 (InputLayer)            [(None, 28, 28, 1)]  0                                            \n",
            "__________________________________________________________________________________________________\n",
            "sequential (Sequential)         (None, 256)          104903424   input_1[0][0]                    \n",
            "                                                                 input_2[0][0]                    \n",
            "__________________________________________________________________________________________________\n",
            "lambda (Lambda)                 (None, 256)          0           sequential[0][0]                 \n",
            "                                                                 sequential[1][0]                 \n",
            "__________________________________________________________________________________________________\n",
            "dense_3 (Dense)                 (None, 1)            257         lambda[0][0]                     \n",
            "==================================================================================================\n",
            "Total params: 104,903,681\n",
            "Trainable params: 104,900,097\n",
            "Non-trainable params: 3,584\n",
            "__________________________________________________________________________________________________\n",
            "None\n",
            "Epoch 1/30\n",
            "  2/962 [..............................] - ETA: 40s - loss: 0.9430 - accuracy: 0.4922WARNING:tensorflow:Callbacks method `on_train_batch_end` is slow compared to the batch time (batch time: 0.0316s vs `on_train_batch_end` time: 0.0519s). Check your callbacks.\n",
            "962/962 [==============================] - 84s 87ms/step - loss: 0.5401 - accuracy: 0.7229 - val_loss: 0.3915 - val_accuracy: 0.8224\n",
            "Epoch 2/30\n",
            "962/962 [==============================] - 83s 87ms/step - loss: 0.3439 - accuracy: 0.8573 - val_loss: 0.3368 - val_accuracy: 0.8564\n",
            "Epoch 3/30\n",
            "962/962 [==============================] - 83s 87ms/step - loss: 0.2831 - accuracy: 0.8895 - val_loss: 0.3059 - val_accuracy: 0.8767\n",
            "Epoch 4/30\n",
            "962/962 [==============================] - 83s 87ms/step - loss: 0.2470 - accuracy: 0.9062 - val_loss: 0.2618 - val_accuracy: 0.8987\n",
            "Epoch 5/30\n",
            "962/962 [==============================] - 83s 87ms/step - loss: 0.2227 - accuracy: 0.9172 - val_loss: 0.2485 - val_accuracy: 0.9061\n",
            "Epoch 6/30\n",
            "962/962 [==============================] - 83s 87ms/step - loss: 0.2025 - accuracy: 0.9267 - val_loss: 0.2283 - val_accuracy: 0.9170\n",
            "Epoch 7/30\n",
            "962/962 [==============================] - 83s 87ms/step - loss: 0.1892 - accuracy: 0.9317 - val_loss: 0.2205 - val_accuracy: 0.9211\n",
            "Epoch 8/30\n",
            "962/962 [==============================] - 83s 87ms/step - loss: 0.1777 - accuracy: 0.9371 - val_loss: 0.2088 - val_accuracy: 0.9270\n",
            "Epoch 9/30\n",
            "962/962 [==============================] - 83s 87ms/step - loss: 0.1663 - accuracy: 0.9413 - val_loss: 0.1964 - val_accuracy: 0.9312\n",
            "Epoch 10/30\n",
            "962/962 [==============================] - 83s 86ms/step - loss: 0.1565 - accuracy: 0.9456 - val_loss: 0.1867 - val_accuracy: 0.9362\n",
            "Epoch 11/30\n",
            "962/962 [==============================] - 83s 86ms/step - loss: 0.1488 - accuracy: 0.9483 - val_loss: 0.1897 - val_accuracy: 0.9341\n",
            "Epoch 12/30\n",
            "962/962 [==============================] - 83s 86ms/step - loss: 0.1420 - accuracy: 0.9510 - val_loss: 0.1771 - val_accuracy: 0.9395\n",
            "Epoch 13/30\n",
            "962/962 [==============================] - 83s 86ms/step - loss: 0.1357 - accuracy: 0.9539 - val_loss: 0.1733 - val_accuracy: 0.9406\n",
            "Epoch 14/30\n",
            "962/962 [==============================] - 83s 86ms/step - loss: 0.1311 - accuracy: 0.9557 - val_loss: 0.1688 - val_accuracy: 0.9436\n",
            "Epoch 15/30\n",
            "962/962 [==============================] - 83s 86ms/step - loss: 0.1250 - accuracy: 0.9573 - val_loss: 0.1608 - val_accuracy: 0.9459\n",
            "Epoch 16/30\n",
            "962/962 [==============================] - 83s 86ms/step - loss: 0.1200 - accuracy: 0.9598 - val_loss: 0.1590 - val_accuracy: 0.9469\n",
            "Epoch 17/30\n",
            "962/962 [==============================] - 83s 87ms/step - loss: 0.1164 - accuracy: 0.9609 - val_loss: 0.1573 - val_accuracy: 0.9481\n",
            "Epoch 18/30\n",
            "962/962 [==============================] - 83s 87ms/step - loss: 0.1119 - accuracy: 0.9629 - val_loss: 0.1521 - val_accuracy: 0.9499\n",
            "Epoch 19/30\n",
            "962/962 [==============================] - 83s 86ms/step - loss: 0.1084 - accuracy: 0.9638 - val_loss: 0.1533 - val_accuracy: 0.9482\n",
            "Epoch 20/30\n",
            "962/962 [==============================] - 83s 86ms/step - loss: 0.1045 - accuracy: 0.9649 - val_loss: 0.1498 - val_accuracy: 0.9498\n",
            "Epoch 21/30\n",
            "962/962 [==============================] - 83s 87ms/step - loss: 0.1025 - accuracy: 0.9662 - val_loss: 0.1399 - val_accuracy: 0.9540\n",
            "Epoch 22/30\n",
            "962/962 [==============================] - 83s 87ms/step - loss: 0.0987 - accuracy: 0.9678 - val_loss: 0.1456 - val_accuracy: 0.9521\n",
            "Epoch 23/30\n",
            "962/962 [==============================] - 83s 86ms/step - loss: 0.0955 - accuracy: 0.9686 - val_loss: 0.1376 - val_accuracy: 0.9541\n",
            "Epoch 24/30\n",
            "962/962 [==============================] - 83s 86ms/step - loss: 0.0931 - accuracy: 0.9698 - val_loss: 0.1321 - val_accuracy: 0.9566\n",
            "Epoch 25/30\n",
            "962/962 [==============================] - 83s 87ms/step - loss: 0.0905 - accuracy: 0.9701 - val_loss: 0.1339 - val_accuracy: 0.9558\n",
            "Epoch 26/30\n",
            "962/962 [==============================] - 83s 86ms/step - loss: 0.0874 - accuracy: 0.9714 - val_loss: 0.1289 - val_accuracy: 0.9567\n",
            "Epoch 27/30\n",
            "962/962 [==============================] - 83s 86ms/step - loss: 0.0857 - accuracy: 0.9719 - val_loss: 0.1304 - val_accuracy: 0.9569\n",
            "Epoch 28/30\n",
            "962/962 [==============================] - 83s 86ms/step - loss: 0.0832 - accuracy: 0.9731 - val_loss: 0.1251 - val_accuracy: 0.9592\n",
            "Epoch 29/30\n",
            "962/962 [==============================] - 82s 86ms/step - loss: 0.0812 - accuracy: 0.9737 - val_loss: 0.1234 - val_accuracy: 0.9593\n",
            "Epoch 30/30\n",
            "962/962 [==============================] - 83s 86ms/step - loss: 0.0796 - accuracy: 0.9746 - val_loss: 0.1226 - val_accuracy: 0.9590\n"
          ],
          "name": "stdout"
        },
        {
          "output_type": "display_data",
          "data": {
            "image/png": "[encoded data removed]",
            "text/plain": [
              "<Figure size 432x288 with 1 Axes>"
            ]
          },
          "metadata": {
            "tags": [],
            "needs_background": "light"
          }
        },
        {
          "output_type": "display_data",
          "data": {
            "image/png": "[encoded data removed]",
            "text/plain": [
              "<Figure size 432x288 with 1 Axes>"
            ]
          },
          "metadata": {
            "tags": [],
            "needs_background": "light"
          }
        }
      ]
    },
    {
      "cell_type": "markdown",
      "metadata": {
        "id": "CT1WNbAPr9HQ"
      },
      "source": [
        "**Make Prediction on test data(unseen data)**\n",
        "\n",
        "Note: \n",
        "classes in test data = [2, 15, 20, 6, 14, 25]\n",
        "\n",
        "classes in train data = [1,3,4,5,7,8,9,10,11,12,13,16,17,18,19,21,22,23,24,26]"
      ]
    },
    {
      "cell_type": "code",
      "metadata": {
        "id": "AYxfw44ZsBe2",
        "outputId": "67171d80-1317-46e8-f4a7-fad0de6b6292",
        "colab": {
          "base_uri": "https://localhost:8080/",
          "height": 51
        }
      },
      "source": [
        "predictions = model.predict([total_test_image_pairs [:, 0].reshape(-1, 28,28, 1), total_test_image_pairs [:, 1].reshape(-1, 28, 28, 1)])\n",
        "print(\"predictions shape: {}\".format(predictions.shape))\n",
        "print(\"Accuracy on test data is(with threshold=0.5): {}\".format(compute_accuracy(total_test_labels, predictions)*100))"
      ],
      "execution_count": 14,
      "outputs": [
        {
          "output_type": "stream",
          "text": [
            "predictions shape: (40904, 1)\n",
            "Accuracy on test data is(with threshold=0.5): 72.03451985135928\n"
          ],
          "name": "stdout"
        }
      ]
    },
    {
      "cell_type": "markdown",
      "metadata": {
        "id": "5c8QVDRg2A58"
      },
      "source": [
        "**Conclusion**\n",
        "\n",
        "1. As we can see from above that out model is able to acheive train_accuracy: 97.46%  and val_accuracy: 95.90 in 30 epochs\n",
        "\n",
        "2. We are able to achieve 72% Accuracy on test data that includes totally unseen classes to models\n",
        "\n",
        "3. we can futher improve the results by hyperparameter tuning, by trying different network architectures , by chossing optimal the threshold(in our case it is 0.5)\n",
        "\n",
        "4. we can perform various experiments to get better results."
      ]
    }
  ]
}